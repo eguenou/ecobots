{
 "cells": [
  {
   "cell_type": "code",
   "execution_count": 1,
   "metadata": {},
   "outputs": [],
   "source": [
    "import pandas as pd\n",
    "import numpy as np"
   ]
  },
  {
   "cell_type": "code",
   "execution_count": 3,
   "metadata": {},
   "outputs": [
    {
     "data": {
      "text/plain": [
       "{'name': ['M. Ledoux'],\n",
       " 'taille': ['Je fais 1m75'],\n",
       " 'poids': ['Je fais 92kg'],\n",
       " 'job': ['Je suis retraité, ancien infirmier. '],\n",
       " 'motif': [\"J'ai mal au dos depuis 4 jours. J'ai vu mon médecin traitant il y a 4 jours il m'a dit que j'avais une colique néphrétique et m'a donné des antalgiques mais là ça ne va pas mieux ! \"],\n",
       " 'stress': [\"J'ai mal à mon dos..\"],\n",
       " 'age': [\"J'ai 65 ans\"],\n",
       " 'antecedant': [\"J'ai déjà eu une fois un crise de goutte pour lequel je prend de l'allopurinol.\"],\n",
       " 'antecedantfam': ['Pas à ma connaissance', 'Je ne crois pas'],\n",
       " 'howareyou': ['Vraiment pas bien Docteur.'],\n",
       " 'tabac': ['Non Docteur.']}"
      ]
     },
     "execution_count": 3,
     "metadata": {},
     "output_type": "execute_result"
    }
   ],
   "source": [
    "def get_intents(excel_file):\n",
    "    patient = pd.read_excel(excel_file, sheet_name=0)\n",
    "    patient = patient.fillna(\"-\")\n",
    "    patient['text_all'] = patient.iloc[:,2:].apply(list, axis=1)\n",
    "    patient_dict = patient.set_index('Informations')['text_all'].to_dict()\n",
    "    patient_dict_no_nan = {}\n",
    "    for key, value in patient_dict.items():\n",
    "        value_no_nan = [x for x in value if x != \"-\"]\n",
    "        patient_dict_no_nan[key] = value_no_nan\n",
    "\n",
    "    sdd = pd.read_excel(excel_file, sheet_name=1)\n",
    "    sdd = sdd.fillna('-')\n",
    "    sdd['text_all'] = sdd.iloc[:,2:].apply(list, axis=1)\n",
    "    sdd_dict = sdd[['Informations', 'type', 'text_all']].to_dict(orient='index')\n",
    "    sdd_dict_no_nan = {}\n",
    "    for key, value in sdd_dict.items():\n",
    "        value_no_nan = [x for x in value['text_all'] if x != \"-\"]\n",
    "        if value['Informations'] not in sdd_dict_no_nan.keys():\n",
    "            sdd_dict_no_nan[value['Informations']] = {value['type']: value_no_nan}\n",
    "        else:\n",
    "            sdd_dict_no_nan[value['Informations']][value['type']] = value_no_nan\n",
    "    sdd_list = []\n",
    "    for key, value in sdd_dict_no_nan.items():\n",
    "        tag = {}\n",
    "        tag['tag'] = key\n",
    "        tag.update(value)\n",
    "        sdd_list.append(tag)\n",
    "    return patient_dict_no_nan, sdd_list\n",
    "\n",
    "patient_dict_no_nan, sdd_list = get_intents('import/ECOS Intents DC SDD036 I161.xlsx')\n",
    "patient_dict_no_nan"
   ]
  },
  {
   "cell_type": "code",
   "execution_count": 4,
   "metadata": {},
   "outputs": [
    {
     "data": {
      "text/plain": [
       "[{'tag': 'annonce',\n",
       "  'patterns': [\"Je comprends, d'après vos symptomes, vous avez probablement une pyélonéphrite aigue obstructive. Nous allons faire d'autres examens afin de pouvoir confirmer ou exclure cette hypothèse.\"],\n",
       "  'responses': ['Vous pouvez me detailler quels examens vous allez me prescrire docteur ? ']},\n",
       " {'tag': 'prescriptionExploration',\n",
       "  'patterns': ['Je vais vous proposer de faire une prise de sang, avec une NFS, une CRP pour recherche une infection, une créatininémie pour evaluer votre fonction rénale. Vous devrez faire un examen urinaire et sanguin pour chercher des bactéries (ECBU et hémocultures). Enfin je vais vous proposer de réaliser un scanner abdominopelvien sans injection pour chercher la cause de vos douleurs et de cette probable pyelonephrite'],\n",
       "  'responses': [\"Attendez Docteur, on m'a déjà fait faire une prise de sang tout à l'heure. Peut etre que vous aurez déjà des resultats ? *** Voici les resultats que vous retrouvez sur le dossier informatisé du patient ***\"]},\n",
       " {'tag': 'analyseSangExploration',\n",
       "  'patterns': ['Le bilan sanguin présente une insuffisance rénale légère et syndrome inflammatoire biologique '],\n",
       "  'responses': [\"Qu'est ce qui faut faire encore ? \"]},\n",
       " {'tag': 'analyseImagerieExploration',\n",
       "  'patterns': ['Vous allez faire un scanner abdominopelvien afin de voir la cause de vos fievres et vos douleurs.'],\n",
       "  'responses': [\"Mon médecin m'avait demandé de faire un scanner, j'ai eu de la chance j'ai pu avoir un rendez-vous ce matin, voilà le compte rendu.\"]},\n",
       " {'tag': 'priseEnCharge',\n",
       "  'patterns': [\"Je vous confirme que vous souffrez d'une pyélonéphrite. Je vais vous hospitaliser et vous mettre rapidement sous antibiothérapie intraveineuse. Je vais contacter le médecin urologue, car il va falloir drainer vos voies urinaires, afin de guerir de votre pyelonéphrite. \"],\n",
       "  'responses': ['Entendu Docteur, je vous fais confiance.']},\n",
       " {'tag': 'repas',\n",
       "  'patterns': [\"Quel est l'heure de votre dernier repas ?\"],\n",
       "  'responses': ['Hier soir vers 20h Docteur.']}]"
      ]
     },
     "execution_count": 4,
     "metadata": {},
     "output_type": "execute_result"
    }
   ],
   "source": [
    "sdd_list"
   ]
  }
 ],
 "metadata": {
  "kernelspec": {
   "display_name": "Python 3",
   "language": "python",
   "name": "python3"
  },
  "language_info": {
   "codemirror_mode": {
    "name": "ipython",
    "version": 3
   },
   "file_extension": ".py",
   "mimetype": "text/x-python",
   "name": "python",
   "nbconvert_exporter": "python",
   "pygments_lexer": "ipython3",
   "version": "3.8.10"
  },
  "orig_nbformat": 4,
  "vscode": {
   "interpreter": {
    "hash": "916dbcbb3f70747c44a77c7bcd40155683ae19c65e1c03b4aa3499c5328201f1"
   }
  }
 },
 "nbformat": 4,
 "nbformat_minor": 2
}
