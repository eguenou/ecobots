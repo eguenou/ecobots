{
 "cells": [
  {
   "cell_type": "code",
   "execution_count": 15,
   "metadata": {},
   "outputs": [],
   "source": [
    "import pandas as pd\n",
    "import numpy as np"
   ]
  },
  {
   "cell_type": "code",
   "execution_count": 27,
   "metadata": {},
   "outputs": [
    {
     "data": {
      "text/plain": [
       "{'name': ['M. Denis'],\n",
       " 'taille': ['Je fais 1m75'],\n",
       " 'poids': ['Je fais 70kg'],\n",
       " 'job': [\"Je suis artiste peintre. J'aime mon métier.\"],\n",
       " 'motif': [\"Je viens vous consulter parce que j'ai peur d'avoir la maladie de Parkinson...\"],\n",
       " 'stress': [\"J'ai peur d'avoir la maladie de Parkinson..\"],\n",
       " 'age': [\"J'ai 55 ans\"],\n",
       " 'antecedant': [\"J'ai de l'hypertension. Je prends de l'AMLOR le matin.\"],\n",
       " 'antecedantfam': ['Pas à ma connaissance', 'Je ne crois pas'],\n",
       " 'howareyou': ['Ca va Docteur.', 'Un peu stressée mais ca va.'],\n",
       " 'tabac': ['Non Docteur.']}"
      ]
     },
     "execution_count": 27,
     "metadata": {},
     "output_type": "execute_result"
    }
   ],
   "source": [
    "def get_intents(excel_file):\n",
    "    patient = pd.read_excel(excel_file, sheet_name=0)\n",
    "    patient = patient.fillna(\"-\")\n",
    "    patient['text_all'] = patient.iloc[:,2:].apply(list, axis=1)\n",
    "    patient_dict = patient.set_index('Informations')['text_all'].to_dict()\n",
    "    patient_dict_no_nan = {}\n",
    "    for key, value in patient_dict.items():\n",
    "        value_no_nan = [x for x in value if x != \"-\"]\n",
    "        patient_dict_no_nan[key] = value_no_nan\n",
    "\n",
    "    sdd = pd.read_excel(excel_file, sheet_name=1)\n",
    "    sdd = sdd.fillna('-')\n",
    "    sdd['text_all'] = sdd.iloc[:,2:].apply(list, axis=1)\n",
    "    sdd_dict = sdd[['Informations', 'type', 'text_all']].to_dict(orient='index')\n",
    "    sdd_dict_no_nan = {}\n",
    "    for key, value in sdd_dict.items():\n",
    "        value_no_nan = [x for x in value['text_all'] if x != \"-\"]\n",
    "        if value['Informations'] not in sdd_dict_no_nan.keys():\n",
    "            sdd_dict_no_nan[value['Informations']] = {value['type']: value_no_nan}\n",
    "        else:\n",
    "            sdd_dict_no_nan[value['Informations']][value['type']] = value_no_nan\n",
    "    sdd_list = []\n",
    "    for key, value in sdd_dict_no_nan.items():\n",
    "        tag = {}\n",
    "        tag['tag'] = key\n",
    "        tag.update(value)\n",
    "        sdd_list.append(tag)\n",
    "    return patient_dict_no_nan, sdd_list\n",
    "\n",
    "patient_dict_no_nan, sdd_list = get_intents('import/ECOS Intents MV SDD328 I106.xlsx')\n",
    "patient_dict_no_nan"
   ]
  },
  {
   "cell_type": "code",
   "execution_count": 28,
   "metadata": {},
   "outputs": [
    {
     "data": {
      "text/plain": [
       "[{'tag': 'annonce',\n",
       "  'patterns': ['Vous avez bien fait, nous allons prendre le temps de vous expliquer la maladie de Parkinson.',\n",
       "   'En effet, vous avez des symptomes pouvant faire penser à une maladie de Parkinson',\n",
       "   \"A l'examen, je retrouve des elements pouvant en effet indiquer que vous êtes atteint de la maladie de Parkison.\"],\n",
       "  'responses': ['Je vous ecoute Docteur.',\n",
       "   \"Dites moi en plus Docteur s'il vous plait.\"]},\n",
       " {'tag': 'explorationParkinson',\n",
       "  'patterns': [\"Vous présentez des tremblements, une lenteur aux mouvements et une rigidité qui peut faire penser à une maladie de Parkinson. il s'agit d'une maladie qui est due à un déficit d'une molécule nommé dopamine dans le cerveau.\",\n",
       "   \"A l'examen, je retrouve des elements cliniques, comme des tremblements et une rigidité de vos mouvements. Il s'agit d'une maladie qui est due à un déficit d'une molécule nommé dopamine dans le cerveau.\"],\n",
       "  'responses': [\"Mais vous êtes sur ? Y'a pas besoin d'examen complémentaires ?\"]},\n",
       " {'tag': 'confirmationParkinson',\n",
       "  'patterns': [\"Tout à fait, le diagnostic est uniquement clinique. Il n'y a pas besoin de réaliser d'examen complémentaire. Le diagnostic de certitude est réalisé avec le suivi de l'absence d'autres signes pour un autre syndrome parkinsonien. Nous pourrons vous proposer un taritement dont la réponse nous orientera également sur le diagnostic.\",\n",
       "   \"Tout à fait, le diagnostic est uniquement clinique. Il n'y a pas besoin de réaliser d'examen complémentaire. \",\n",
       "   \"Il n'y a pas besoin de réaliser d'examen complémentaire. Le diagnostic de certitude est réalisé avec le suivi de l'absence d'autres signes pour un autre syndrome parkinsonien. Nous pourrons vous proposer un taritement dont la réponse nous orientera également sur le diagnostic.\"],\n",
       "  'responses': [\"Est-ce que c'est grave ?\"]},\n",
       " {'tag': 'pronosticParkinson',\n",
       "  'patterns': [\"Il s'agit d'une maladie dont l'evolution propre à chaque individu. Si on ne peut pas la guérir, on peut vous proposer des traitements pour essayer de réduire vos symptomes.\",\n",
       "   \"Il s'agit d'une maladie dont l'evolution propre à chaque individu. Si on ne peut pas la guérir, on peut vous proposer des traitements pour essayer de réduire vos tremblements et vos lenteurs de mouvements.\"],\n",
       "  'responses': ['Est-ce que je peux vivre normalement ?']},\n",
       " {'tag': 'traitementParkinson',\n",
       "  'patterns': [\"S'il n'existe pas de traitement pour guerir, il existe des traitements pour éviter vos symptomes, qui essaye de combler le déficit en dopamine qu'on retrouve dans la maladie de Parkinson. Ces traitementst sont des agonistes dopaminergiques comme la Levodopa. Ce traitement peut avoir des effets secondaires.\",\n",
       "   'Selon la gène causée par vos tremblements ou mouvements, je peux vous proposer des traitements pour soulager vos symptomes. Ces traitements ne permettent pas de guerir mais peuvent aider à calmer vos symptomes. Ils essayent de combler le déficit en dopamine, comme la levodopa qui est un agoniste dopaminergique. Ce traitement peut avoir des effets secondaires.'],\n",
       "  'responses': [\"Je prend un traitement pour la tension, est-ce qu'il y a un risque ?\"]},\n",
       " {'tag': 'interactionParkinson',\n",
       "  'patterns': [\"En effet, il y a un risque d'hypotension de l'association traitement anti-parkinsonien et Amlor.\"],\n",
       "  'responses': ['Je vais prendre le temps de réflechir avec vos explications Docteur.']}]"
      ]
     },
     "execution_count": 28,
     "metadata": {},
     "output_type": "execute_result"
    }
   ],
   "source": [
    "sdd_list"
   ]
  }
 ],
 "metadata": {
  "interpreter": {
   "hash": "df0893f56f349688326838aaeea0de204df53a132722cbd565e54b24a8fec5f6"
  },
  "kernelspec": {
   "display_name": "Python 3.8.0 64-bit",
   "language": "python",
   "name": "python3"
  },
  "language_info": {
   "codemirror_mode": {
    "name": "ipython",
    "version": 3
   },
   "file_extension": ".py",
   "mimetype": "text/x-python",
   "name": "python",
   "nbconvert_exporter": "python",
   "pygments_lexer": "ipython3",
   "version": "3.7.4"
  },
  "orig_nbformat": 4
 },
 "nbformat": 4,
 "nbformat_minor": 2
}
